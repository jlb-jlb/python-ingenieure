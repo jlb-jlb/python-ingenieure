{
 "cells": [
  {
   "cell_type": "markdown",
   "metadata": {
    "pycharm": {
     "name": "#%% md\n"
    }
   },
   "source": [
    "# **Python für Ingenieure**\n",
    "<!-- Lizensiert unter (CC BY 4.0) Gert Herold, 2022 -->\n",
    "\n",
    "## 8.2. Dynamische und interaktive Plot-Beispiele\n",
    "\n",
    "Um einen Plot dynamisch anpassen zu können, muss das Paket *ipympl* in die Anaconda-Umgebung installiert werden, falls es noch nicht vorhanden ist:\n",
    "```shell\n",
    "    conda install ipympl\n",
    "```\n",
    "\n",
    "Für interaktive Plots wird das Modul [*ipywidgets*](https://ipywidgets.readthedocs.io/en/latest/) verwendet.\n",
    "Überprüfen Sie (z.B: über `conda list`), ob das Modul bereits vorhanden ist und falls nicht, [installieren Sie es nach.](https://ipywidgets.readthedocs.io/en/latest/user_install.html#with-conda)\n",
    "Dieses Modul stellt Steuer- und Plot-Elemente (\"widget\", dt.: \"Dings\") zur Verfügung, die auch im JupyterLab verwendet werden können.\n",
    "\n",
    "Möglicherweise muss zuvor noch node.js installiert werden:\n",
    "```shell\n",
    "    conda install nodejs\n",
    "```"
   ]
  },
  {
   "cell_type": "markdown",
   "metadata": {
    "pycharm": {
     "name": "#%% md\n"
    }
   },
   "source": [
    "### 8.2.1. Dynamische Plots\n",
    "\n",
    "Für dynamischen Plot Skript einleiten mit \n",
    "```python \n",
    "    %matplotlib widget\n",
    "```"
   ]
  },
  {
   "cell_type": "code",
   "execution_count": null,
   "metadata": {
    "pycharm": {
     "name": "#%%\n"
    }
   },
   "outputs": [],
   "source": [
    "%matplotlib widget\n",
    "import matplotlib.pyplot as plt\n",
    "import numpy as np\n",
    "\n",
    "x = [-0.1,0.2,0.7,2.5]\n",
    "y = [3,2,7,5]\n",
    "\n",
    "plt.plot(x, y)\n",
    "plt.show()"
   ]
  },
  {
   "cell_type": "markdown",
   "metadata": {
    "pycharm": {
     "name": "#%% md\n"
    }
   },
   "source": [
    "### 8.2.2. Interaktive Steuerelemente und Plots"
   ]
  },
  {
   "cell_type": "code",
   "execution_count": null,
   "metadata": {
    "pycharm": {
     "name": "#%%\n"
    }
   },
   "outputs": [],
   "source": [
    "import ipywidgets as widgets\n",
    "\n",
    "def f(x):\n",
    "    return x**2\n",
    "\n",
    "widgets.interact(f, x=10);"
   ]
  },
  {
   "cell_type": "markdown",
   "metadata": {
    "pycharm": {
     "name": "#%% md\n"
    }
   },
   "source": [
    "**Beispiel: Funktionsplot mit Parametern**"
   ]
  },
  {
   "cell_type": "code",
   "execution_count": null,
   "metadata": {
    "pycharm": {
     "name": "#%%\n"
    }
   },
   "outputs": [],
   "source": [
    "%matplotlib inline\n",
    "import ipywidgets as widgets\n",
    "import matplotlib.pyplot as plt\n",
    "import numpy as np\n",
    "\n",
    "@widgets.interact\n",
    "def plot_signal(f=(1,100),tmax=(0.1,1,0.01), tone_amp = (0.0,2,0.1), noise_amp = (0.0,2,0.1)):\n",
    "    \n",
    "    plt.figure(2,(15,5))\n",
    "    t = np.linspace(0,tmax,1000)\n",
    "    p = np.sin(2*np.pi*f*t)*tone_amp\n",
    "    noise = np.random.randn(1000)*noise_amp\n",
    "    \n",
    "    #fs = 1/(t[1]-t[0])\n",
    "    #print(f'Abtastfrequenz: {fs:.2f} Hz')\n",
    "    \n",
    "    plt.plot(t,p+noise)\n",
    "    plt.grid(True)\n",
    "    plt.xlabel('$t$ / s')\n",
    "    plt.ylabel('$p$ / Pa')\n",
    "    plt.show()\n"
   ]
  },
  {
   "cell_type": "markdown",
   "metadata": {
    "pycharm": {
     "name": "#%% md\n"
    }
   },
   "source": [
    "Feste Höhe für Plot reservieren (ggf. \"Flackern\" durch veränderliche Plothöhe verhindern):"
   ]
  },
  {
   "cell_type": "code",
   "execution_count": null,
   "metadata": {
    "pycharm": {
     "name": "#%%\n"
    }
   },
   "outputs": [],
   "source": [
    "%matplotlib inline\n",
    "import ipywidgets as widgets\n",
    "import matplotlib.pyplot as plt\n",
    "import numpy as np\n",
    "\n",
    "def plot_signal(f, tmax, tone_amp, noise_amp):\n",
    "    \n",
    "    plt.figure(2,(15,5))\n",
    "    t = np.linspace(0,tmax,1000)\n",
    "    p = np.sin(2*np.pi*f*t)*tone_amp\n",
    "    noise = np.random.randn(1000)*noise_amp\n",
    "    \n",
    "    plt.plot(t,p+noise)\n",
    "    plt.grid(True)\n",
    "    plt.xlabel('$t$ / s')\n",
    "    plt.ylabel('$p$ / Pa')\n",
    "    plt.show()\n",
    "    \n",
    "grafik = widgets.interactive(plot_signal, f=(1,100),tmax=(0.1,1,0.01), tone_amp = (0.0,2,0.1), noise_amp = (0.0,2,0.1))\n",
    "ausgabefenster = grafik.children[-1]\n",
    "ausgabefenster.layout.height = '5in'\n",
    "grafik"
   ]
  },
  {
   "cell_type": "markdown",
   "metadata": {
    "pycharm": {
     "name": "#%% md\n"
    }
   },
   "source": [
    "Aktuelle Parameter ausgeben / weiterverwenden:"
   ]
  },
  {
   "cell_type": "code",
   "execution_count": null,
   "metadata": {
    "pycharm": {
     "name": "#%%\n"
    }
   },
   "outputs": [],
   "source": [
    "for param in grafik.children[0:-1]:\n",
    "    print(param.description,':',param.value)"
   ]
  },
  {
   "cell_type": "markdown",
   "metadata": {
    "pycharm": {
     "name": "#%% md\n"
    }
   },
   "source": [
    "Dokumentation weiterer Widget-Einstellungen: https://ipywidgets.readthedocs.io/en/latest/examples/Using%20Interact.html"
   ]
  },
  {
   "cell_type": "code",
   "execution_count": null,
   "metadata": {
    "pycharm": {
     "name": "#%%\n"
    }
   },
   "outputs": [],
   "source": [
    "%matplotlib inline\n",
    "import ipywidgets as widgets\n",
    "import matplotlib.pyplot as plt\n",
    "from glob import glob\n",
    "\n",
    "\n",
    "impath = '../nb_HA/HA3/img/'\n",
    "flist = glob(impath+'*.*')\n",
    "\n",
    "@widgets.interact\n",
    "def zeig_bild(dateiname=flist):\n",
    "    im = plt.imread(dateiname)\n",
    "    plt.figure(3,(15,15))\n",
    "    plt.imshow(im)\n",
    "    plt.axis('off')\n",
    "    plt.show()\n"
   ]
  }
 ],
 "metadata": {
  "kernelspec": {
   "display_name": "Python 3 (ipykernel)",
   "language": "python",
   "name": "python3"
  },
  "language_info": {
   "codemirror_mode": {
    "name": "ipython",
    "version": 3
   },
   "file_extension": ".py",
   "mimetype": "text/x-python",
   "name": "python",
   "nbconvert_exporter": "python",
   "pygments_lexer": "ipython3",
   "version": "3.9.5"
  }
 },
 "nbformat": 4,
 "nbformat_minor": 4
}