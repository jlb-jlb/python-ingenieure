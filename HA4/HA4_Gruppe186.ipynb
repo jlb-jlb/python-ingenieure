{
 "cells": [
  {
   "cell_type": "markdown",
   "metadata": {
    "deletable": false,
    "editable": false,
    "tags": []
   },
   "source": [
    "# Hausaufgabe 4\n",
    "## Schallerzeugung durch einen umströmten Zylinder (Teil 1)\n",
    "<!-- Lizensiert unter (CC BY 4.0) Gert Herold -->\n",
    "\n",
    "Bei der Umströmung eines zylindrischen Körpers bilden sich hinter diesem häufig [Wirbelstraßen](https://de.wikipedia.org/wiki/K%C3%A1rm%C3%A1nsche_Wirbelstra%C3%9Fe) aus.\n",
    "Je nach Medium, Strömungsgeschwindigkeit und Durchmesser des Zylinders können die gegenläufigen Wirbel wahrnehmbare Töne verursachen.\n",
    "\n",
    "Hier soll basierend auf experimentellen Daten untersucht werden, wie die erzeugten Töne von der Strömungsgeschwindigkeit abhängen.\n",
    "In einem Windkanal wurden zu diesem Zweck die Schallabstrahlung eines Zylinder mit 6 mm Durchmesser bei ~~15~~ 13 verschiedenen Geschwindigkeiten zwischen ca. $8$ und $50\\,\\frac{\\text{m}}{\\text{s}}$ gemessen und das Ergebnis in WAV-Dateien abgespeichert."
   ]
  },
  {
   "cell_type": "markdown",
   "metadata": {
    "deletable": false,
    "editable": false,
    "tags": []
   },
   "source": [
    "### 1) Einlesen der Daten\n",
    "\n",
    "Die WAV-Dateien sollten für diese Aufgabe entpackt und in einem Unterordner \"data\" abgelegt werden.\n",
    "\n",
    "**1.1) Erstellen Sie automatisiert eine Liste `wavlist` der Dateinamen der WAV-Dateien im Unterordner \"data\". Extrahieren Sie die jeweils zugehörige Strömungsgeschwindigkeit in $\\frac{\\text{m}}{\\text{s}}$ automatisiert aus den Dateinamen, schreiben Sie sie in eine Liste `vlist` mit Fließkommawerten. Geben Sie beide Listen aus.**\n",
    "\n",
    "Hinweis: Als Dezimaltrennzeichen wurde für die Geschwindigkeit im Dateinamen ein \"o\" verwendet, um Probleme mit der Identifikation der Dateiendung zu vermeiden."
   ]
  },
  {
   "cell_type": "code",
   "execution_count": 23,
   "metadata": {},
   "outputs": [
    {
     "name": "stdout",
     "output_type": "stream",
     "text": [
      "Type: <class 'list'>\n",
      "['06_mm_08o32_mps.wav', '06_mm_10o73_mps.wav', '06_mm_14o10_mps.wav', '06_mm_18o69_mps.wav', '06_mm_22o10_mps.wav', '06_mm_25o06_mps.wav', '06_mm_29o76_mps.wav', '06_mm_34o00_mps.wav', '06_mm_37o25_mps.wav', '06_mm_40o95_mps.wav', '06_mm_44o07_mps.wav', '06_mm_45o42_mps.wav', '06_mm_47o31_mps.wav']\n",
      "\n",
      "Wavlist mit ./data/ vorne: \n",
      "\n",
      "['./data/06_mm_08o32_mps.wav', './data/06_mm_10o73_mps.wav', './data/06_mm_14o10_mps.wav', './data/06_mm_18o69_mps.wav', './data/06_mm_22o10_mps.wav', './data/06_mm_25o06_mps.wav', './data/06_mm_29o76_mps.wav', './data/06_mm_34o00_mps.wav', './data/06_mm_37o25_mps.wav', './data/06_mm_40o95_mps.wav', './data/06_mm_44o07_mps.wav', './data/06_mm_45o42_mps.wav', './data/06_mm_47o31_mps.wav']\n",
      "\n",
      "vlist:\n",
      " [8.32, 10.73, 14.1, 18.69, 22.1, 25.06, 29.76, 34.0, 37.25, 40.95, 44.07, 45.42, 47.31]\n"
     ]
    }
   ],
   "source": [
    "# Hier eigenen Code schreiben ...\n",
    "import os\n",
    "path = \"./data\"\n",
    "\n",
    "wavlist = os.listdir(path=path)\n",
    "print(f\"Type: {type(wavlist)}\")\n",
    "print(f\"{wavlist}\")\n",
    "\n",
    "vlist = [ float(val.replace(\"06_mm_\", \"\").replace(\"_mps.wav\", \"\").replace(\"o\",\".\")) for val in wavlist]\n",
    "\n",
    "# Dem assertion error gerecht werden\n",
    "print(\"\\nWavlist mit ./data/ vorne: \\n\")\n",
    "wavlist = [f\"{path}/{val}\" for val in wavlist]\n",
    "\n",
    "print(wavlist, end=\"\\n\\n\")\n",
    "print(\"vlist:\\n\", vlist)"
   ]
  },
  {
   "cell_type": "code",
   "execution_count": 24,
   "metadata": {
    "deletable": false,
    "editable": false,
    "tags": []
   },
   "outputs": [],
   "source": [
    "# Hier sind einige Plausibilitätstests:\n",
    "assert len(wavlist) == len(vlist) == 13\n",
    "assert all('data' in _ for _ in wavlist)\n",
    "assert type(vlist[0]) == float"
   ]
  },
  {
   "cell_type": "markdown",
   "metadata": {
    "tags": []
   },
   "source": [
    "**1.2) Laden Sie die Schalldruck-Zeitdaten aus den WAV-Dateien. Plotten Sie die Daten für alle Geschwindigkeiten mit korrekten [x-Achsenbeschriftung](https://matplotlib.org/api/_as_gen/matplotlib.pyplot.xlabel.html) und [Kenn](https://stackoverflow.com/questions/25239933/how-to-add-title-to-subplots-in-matplotlib)[zeichnung](https://matplotlib.org/api/_as_gen/matplotlib.pyplot.text.html) der Geschwindigkeit in getrennt untereinanderliegenden Diagrammen.**\n",
    "\n",
    "*Hinweise:*\n",
    "  * *WAV-Dateien enthalten [digitalisierte Zeitdaten](https://de.wikipedia.org/wiki/Puls-Code-Modulation), z.B. können damit mit Mikrofonen aufgezeichnete zeitliche Schwankungen des Luftdrucks (Schall) abgespeichert werden.*\n",
    "  * *Die WAV-Daten sind als Integer-Werte gespeichert. Um daraus z.B. Schalldrücke zu berechnen, müsste bekannt sein, welchem Schalldruckwert der maximale Integerwert entspricht. In dieser Aufgabe sind jedoch diesbezüglich nur Relativ-Werte von Interesse, sodass auf eine entsprechende Umrechnung verzichtet werden kann.*\n",
    "  * *Die zeitliche Zuordnung der Werte hingegen muss exakt geschehen, wofür die [Abtastrate](https://de.wikipedia.org/wiki/Abtastrate), die in WAV-Dateien mit abgespeichert ist, bekannt sein muss.*"
   ]
  },
  {
   "cell_type": "code",
   "execution_count": 31,
   "metadata": {},
   "outputs": [],
   "source": [
    "# Hier eigenen Code schreiben ...\n",
    "import scipy.io.wavfile as wav\n",
    "schall = []\n",
    "for data in wavlist:\n",
    "    with open(data, 'rb') as f:\n",
    "        schall.append(wav.read(f))\n",
    "\n",
    "# schall"
   ]
  },
  {
   "cell_type": "code",
   "execution_count": null,
   "metadata": {},
   "outputs": [],
   "source": []
  },
  {
   "cell_type": "markdown",
   "metadata": {
    "deletable": false,
    "editable": false,
    "tags": []
   },
   "source": [
    "Um aus den Zeitdaten $p(t)$ Informationen über die darin enthaltenen Töne zu ermitteln, ist es sinnvoll, aus den Datensätzen jeweils ein Spektrum $p(f)$ zu berechnen. \n",
    "Dies geschieht allgemein über eine [Fourier-Transformation](https://de.wikipedia.org/wiki/Fourier-Transformation) bzw. für diskret abgetastete Werte mittels einer [Diskreten Fourier-Transformation](https://de.wikipedia.org/wiki/Diskrete_Fourier-Transformation) (DFT). Für reellwertige Signale ist diese z.B. im Modul [*numpy.fft*](https://docs.scipy.org/doc/numpy/reference/routines.fft.html) mit der Funktion [*rfft()*](https://docs.scipy.org/doc/numpy/reference/generated/numpy.fft.rfft.html) implementiert.\n",
    "\n",
    "### 2) Hiebton\n",
    "\n",
    "**2.1) Berechnen Sie die Spektren (Amplitudenquadrat über Frequenz) aller Zeitsignale und stellen Sie sie in einem gemeinsamen Diagramm dar:**\n",
    "\n",
    "  * Berechnen Sie das Betragsquadrat $|p(f)|^2$ für die einzelnen Werte.\n",
    "  * Stellen Sie diese nur für Frequenzen [bis](https://docs.scipy.org/doc/numpy/reference/generated/numpy.searchsorted.html) 2500 Hz dar. Beschriften Sie die x-Achse korrekt.\n",
    "  * Um den ggf. verdeckten Verlauf einiger Spektren sichtbar zu machen, setzen Sie den Parameter *alpha* der Plotfunktion auf einen Wert kleiner als 1.\n",
    "  * Wählen Sie eine ausreichende Größe der Abbildung.\n",
    "  * Stellen Sie die y-Achse mit logarithmischer Skalierung dar.\n",
    "  * Fügen Sie der Abbildung eine Legende hinzu, damit die jeweiligen Spektren zuordenbar sind.\n",
    "  \n",
    "_Hinweis: Die zugehörigen Frequenzen lassen sich mithilfe der Funktion [rfftfreq()](https://docs.scipy.org/doc/numpy/reference/generated/numpy.fft.rfftfreq.html) berechnen. \n",
    "Anzahl der Samples sowie Abtastrate sind bereits aus Aufgabenteil 1 bekannt._"
   ]
  },
  {
   "cell_type": "code",
   "execution_count": null,
   "metadata": {},
   "outputs": [],
   "source": [
    "# Hier eigenen Code schreiben ...\n"
   ]
  },
  {
   "cell_type": "markdown",
   "metadata": {
    "deletable": false,
    "editable": false,
    "tags": []
   },
   "source": [
    "**2.2) Finden Sie für jede Strömungsgeschwindigkeit den jeweils markanten Ton (d.h. den Maximalwert im Spektrum).**\n",
    "  * Vernachlässigen Sie in Ihrer Betrachtung Frequenzen unter 100 Hz.\n",
    "  * Geben Sie die charakteristische Frequenz $f$ für jede Geschwindigkeit $v$ in übersichtlicher Form aus, z.B.: `v:  0.00 m/s,    f:    0.0 Hz`"
   ]
  },
  {
   "cell_type": "code",
   "execution_count": null,
   "metadata": {},
   "outputs": [],
   "source": [
    "# Hier eigenen Code schreiben ...\n"
   ]
  },
  {
   "cell_type": "markdown",
   "metadata": {
    "deletable": false,
    "editable": false,
    "tags": []
   },
   "source": [
    "### 3) Modellbildung\n",
    "\n",
    "Es soll angenommmen werden, dass ein annähernd linearer Zusammenhang der beiden Größen $v$ und $f$ besteht. \n",
    "Um diesen zu ermitteln, soll daher eine [Regressionsgerade](https://de.wikipedia.org/wiki/Lineare_Einfachregression) berechnet werden.\n",
    "Eine Gerade im zweidimensionalen Raum ist definiert durch 2 Parameter $a, b$:\n",
    "$$\n",
    "f = a\\,v + b\n",
    "$$\n",
    "\n",
    "Die Koeffizienten $a$ und $b$ der Regressionsgerade berechnen sich über:\n",
    "\n",
    "$$\n",
    "a=\\frac{\\sum_{i=1}^{N} (v_i - \\overline v)(f_i - \\overline f)}{\\sum_{i=1}^{N}(v_i - \\overline v)^2}\\\\\n",
    "b=\\overline f - a\\,\\overline v\n",
    "$$\n",
    "\n",
    "**3.1) Schreiben Sie eine Funktion _ab()_, die für beliebige, gleich lange Arrays _v_ und _f_ die Geraden-Parameter _a_ und _b_ berechnet und zurückgibt.**"
   ]
  },
  {
   "cell_type": "code",
   "execution_count": null,
   "metadata": {},
   "outputs": [],
   "source": [
    "def ab(v,f):\n",
    "    # Hier eigenen Code schreiben ...\n"
   ]
  },
  {
   "cell_type": "code",
   "execution_count": null,
   "metadata": {
    "deletable": false,
    "editable": false,
    "tags": []
   },
   "outputs": [],
   "source": [
    "# Hier ist ein Plausibilitätstest:\n",
    "import numpy as np\n",
    "assert ab(np.array([1,2]),np.array([0,1])) == (1.,-1.), 'ab-Funktion'"
   ]
  },
  {
   "cell_type": "markdown",
   "metadata": {
    "deletable": false,
    "editable": false,
    "tags": []
   },
   "source": [
    "**3.2) Wenden Sie die Funktion auf die Wertepaare aus Aufgabenteil 2.2 an und zeichnen Sie die Regressionsgerade (als Linie) zusammen mit den Ausgangswerten (als Punkte) in ein Diagramm.**\n",
    "\n",
    "  * Achten Sie auf korrekte Achsenbeschriftungen.\n",
    "  * Geben Sie außerdem an, welche charakteristischen Töne bei $v=15\\,\\frac{\\text{m}}{\\text{s}}$, $v=42\\,\\frac{\\text{m}}{\\text{s}}$ und $v=50\\,\\frac{\\text{m}}{\\text{s}}$ zu erwarten wären.\n",
    "  * Zeichnen Sie die Abweichung der gemessenen Werte zur Regressionsgerade in ein separates Diagramm.\n",
    "  * Wie groß sind Mittelwert und Standardabweichung dieser Abweichungen?"
   ]
  },
  {
   "cell_type": "code",
   "execution_count": null,
   "metadata": {},
   "outputs": [],
   "source": [
    "# Hier eigenen Code schreiben ...\n",
    "   "
   ]
  }
 ],
 "metadata": {
  "kernelspec": {
   "display_name": "Python 3.10.4 ('DataSpell_env')",
   "language": "python",
   "name": "python3"
  },
  "language_info": {
   "codemirror_mode": {
    "name": "ipython",
    "version": 3
   },
   "file_extension": ".py",
   "mimetype": "text/x-python",
   "name": "python",
   "nbconvert_exporter": "python",
   "pygments_lexer": "ipython3",
   "version": "3.10.4"
  },
  "vscode": {
   "interpreter": {
    "hash": "feec554b88b5bfacc6e2c3545e667bca870d15aa77d8e44edccd02c2cd8d17a8"
   }
  }
 },
 "nbformat": 4,
 "nbformat_minor": 4
}
